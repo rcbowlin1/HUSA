{
 "cells": [
  {
   "cell_type": "markdown",
   "metadata": {},
   "source": [
    "# RM Promo Optimization Data Staging"
   ]
  },
  {
   "cell_type": "code",
   "execution_count": 1,
   "metadata": {},
   "outputs": [],
   "source": [
    "# Import packages\n",
    "\n",
    "import pandas as pd\n",
    "import numpy as np\n",
    "from pandas import Series, DataFrame"
   ]
  },
  {
   "cell_type": "markdown",
   "metadata": {},
   "source": [
    "### The first few rows of this program are designed to be used only if changes are made to original dataset"
   ]
  },
  {
   "cell_type": "code",
   "execution_count": 2,
   "metadata": {},
   "outputs": [],
   "source": [
    "#data1 = pd.read_csv('Z:\\RevMgmt\\RB Projects\\AOD Data\\Data\\Hurdle Charts\\Promo Model Data.csv',sep = ',')\n",
    "#data2 = pd.read_csv('Z:\\RevMgmt\\RB Projects\\AOD Data\\Data\\Hurdle Charts\\Promo Model Data_2.csv',sep = ',')"
   ]
  },
  {
   "cell_type": "code",
   "execution_count": 3,
   "metadata": {},
   "outputs": [],
   "source": [
    "#data1.info()"
   ]
  },
  {
   "cell_type": "code",
   "execution_count": 4,
   "metadata": {},
   "outputs": [],
   "source": [
    "#data1 = data1.fillna(0)\n",
    "#data2 = data2.fillna(0)"
   ]
  },
  {
   "cell_type": "code",
   "execution_count": 5,
   "metadata": {},
   "outputs": [],
   "source": [
    "#data1.info()\n",
    "#data2.info()"
   ]
  },
  {
   "cell_type": "code",
   "execution_count": 6,
   "metadata": {},
   "outputs": [],
   "source": [
    "#data = data1.append(data2,ignore_index = True, sort = False)\n",
    "\n",
    "#data.info()"
   ]
  },
  {
   "cell_type": "code",
   "execution_count": 7,
   "metadata": {},
   "outputs": [],
   "source": [
    "# Save down a master file\n",
    "\n",
    "#target = r'Z:\\RevMgmt\\RB Projects\\AOD Data\\Data\\Hurdle Charts\\Raw Data.txt'\n",
    "#data.to_csv(target, sep='|', index = False)"
   ]
  },
  {
   "cell_type": "markdown",
   "metadata": {},
   "source": [
    "### Weekly / Monthly Data Manipulation Program Begins HERE "
   ]
  },
  {
   "cell_type": "code",
   "execution_count": 8,
   "metadata": {},
   "outputs": [],
   "source": [
    "# Bring in raw data\n",
    "\n",
    "target = r'Z:\\RevMgmt\\RB Projects\\AOD Data\\Data\\Hurdle Charts\\Raw Data.txt'\n",
    "df = pd.read_csv(target,sep='|')\n",
    "\n",
    "# Fill nan with 0\n",
    "df = df.fillna(0)"
   ]
  },
  {
   "cell_type": "code",
   "execution_count": 9,
   "metadata": {},
   "outputs": [],
   "source": [
    "# Bring in file that is updated every week and/or month\n",
    "\n",
    "weekly_file = r'Z:\\RevMgmt\\RB Projects\\AOD Data\\Data\\Hurdle Charts\\Promo Model Data_Weekly Update.xlsx'\n",
    "weekly_df = pd.read_excel(weekly_file, sheet_name = 'Nielsen',skiprows = 5, index_col = None)"
   ]
  },
  {
   "cell_type": "code",
   "execution_count": 10,
   "metadata": {},
   "outputs": [],
   "source": [
    "# Append the Two Data Sources (old & new) together\n",
    "\n",
    "data = df.append(weekly_df, ignore_index = True, sort = False)"
   ]
  },
  {
   "cell_type": "code",
   "execution_count": 11,
   "metadata": {},
   "outputs": [],
   "source": [
    "# Clean up the data that is in the model\n",
    "\n",
    "# Fill nan with 0\n",
    "data = data.fillna(0)"
   ]
  },
  {
   "cell_type": "code",
   "execution_count": 12,
   "metadata": {},
   "outputs": [],
   "source": [
    "# Bring in the Region Information for breakouts\n",
    "\n",
    "mkt_file = r'Z:\\RevMgmt\\RB Projects\\AOD Data\\Attributions.xlsx'\n",
    "mkt = pd.read_excel(mkt_file, sheet_name = 'Markets')\n",
    "\n",
    "# Merge Region information to the data_final\n",
    "#data = data.merge(mkt['Markets'], left_on = 'All Markets', right_on = mkt['Markets'])\n",
    "data = data.merge(mkt['Region'], left_on = 'All Markets', right_on = mkt['Markets'])"
   ]
  },
  {
   "cell_type": "code",
   "execution_count": 13,
   "metadata": {},
   "outputs": [],
   "source": [
    "data = data.drop_duplicates()"
   ]
  },
  {
   "cell_type": "code",
   "execution_count": 14,
   "metadata": {},
   "outputs": [],
   "source": [
    "# Save down a master file\n",
    "\n",
    "target = r'Z:\\RevMgmt\\RB Projects\\AOD Data\\Data\\Hurdle Charts\\Raw Data.txt'\n",
    "data.to_csv(target, sep='|', index = False)"
   ]
  },
  {
   "cell_type": "code",
   "execution_count": 22,
   "metadata": {},
   "outputs": [
    {
     "data": {
      "text/plain": [
       "array(['1 W/E 01/05/19', '1 W/E 01/12/19', '1 W/E 01/19/19',\n",
       "       '1 W/E 01/26/19', '1 W/E 02/02/19', '1 W/E 02/09/19',\n",
       "       '1 W/E 02/16/19', '1 W/E 02/23/19', '1 W/E 03/02/19',\n",
       "       '1 W/E 03/09/19', '1 W/E 03/16/19', '1 W/E 03/23/19',\n",
       "       '1 W/E 03/30/19', '1 W/E 04/06/19', '1 W/E 04/13/19',\n",
       "       '1 W/E 04/20/19', '1 W/E 04/27/19', '1 W/E 05/04/19',\n",
       "       '1 W/E 05/11/19', '1 W/E 05/18/19', '1 W/E 05/25/19',\n",
       "       '1 W/E 06/01/19', '1 W/E 06/08/19', '1 W/E 06/15/19',\n",
       "       '1 W/E 06/22/19', '1 W/E 06/29/19', '1 W/E 07/06/19',\n",
       "       '1 W/E 07/13/19', '1 W/E 07/20/19', '1 W/E 07/27/19',\n",
       "       '1 W/E 08/03/19', '1 W/E 08/10/19', '1 W/E 08/17/19',\n",
       "       '1 W/E 08/24/19', '1 W/E 08/31/19', '1 W/E 09/07/19',\n",
       "       '1 W/E 09/14/19', '1 W/E 09/21/19', '1 W/E 09/28/19',\n",
       "       '1 W/E 10/05/19', '1 W/E 10/12/19', '1 W/E 10/19/19',\n",
       "       '1 W/E 10/26/19', '1 W/E 11/02/19', '1 W/E 11/09/19',\n",
       "       '1 W/E 11/16/19', '1 W/E 11/23/19', '1 W/E 11/30/19',\n",
       "       '1 W/E 12/07/19', '1 W/E 12/14/19', '1 W/E 12/21/19',\n",
       "       '1 W/E 12/28/19', '1 W/E 01/04/20', '1 W/E 01/11/20',\n",
       "       '1 W/E 01/18/20', '1 W/E 01/25/20'], dtype=object)"
      ]
     },
     "execution_count": 22,
     "metadata": {},
     "output_type": "execute_result"
    }
   ],
   "source": [
    "data.Weeks.unique()"
   ]
  },
  {
   "cell_type": "code",
   "execution_count": 23,
   "metadata": {},
   "outputs": [],
   "source": [
    "# Break out the data based on Region\n",
    "\n",
    "data_wer = data[data['Region'].isin(['TOTAL TA','WER'])] \n",
    "data_ner = data[data['Region'].isin(['TOTAL TA','NER'])] \n",
    "data_ser = data[data['Region'].isin(['TOTAL TA','SER'])] \n",
    "data_cer = data[data['Region'].isin(['TOTAL TA','CER'])] "
   ]
  },
  {
   "cell_type": "code",
   "execution_count": 25,
   "metadata": {},
   "outputs": [],
   "source": [
    "# Save down Region-Specific file\n",
    "\n",
    "wer_target = r'Z:\\RevMgmt\\RB Projects\\AOD Data\\Data\\Hurdle Charts\\Region Data Files\\Promo Data WER.txt'\n",
    "data_wer.to_csv(wer_target, sep='|', index = False)\n",
    "\n",
    "ner_target = r'Z:\\RevMgmt\\RB Projects\\AOD Data\\Data\\Hurdle Charts\\Region Data Files\\Promo Data NER.txt'\n",
    "data_ner.to_csv(ner_target, sep='|', index = False)\n",
    "\n",
    "ser_target = r'Z:\\RevMgmt\\RB Projects\\AOD Data\\Data\\Hurdle Charts\\Region Data Files\\Promo Data SER.txt'\n",
    "data_ser.to_csv(ser_target, sep='|', index = False)\n",
    "\n",
    "cer_target = r'Z:\\RevMgmt\\RB Projects\\AOD Data\\Data\\Hurdle Charts\\Region Data Files\\Promo Data CER.txt'\n",
    "data_cer.to_csv(cer_target, sep='|', index = False)"
   ]
  },
  {
   "cell_type": "code",
   "execution_count": 24,
   "metadata": {},
   "outputs": [
    {
     "data": {
      "text/plain": [
       "array(['1 W/E 01/05/19', '1 W/E 01/12/19', '1 W/E 01/19/19',\n",
       "       '1 W/E 01/26/19', '1 W/E 02/02/19', '1 W/E 02/09/19',\n",
       "       '1 W/E 02/16/19', '1 W/E 02/23/19', '1 W/E 03/02/19',\n",
       "       '1 W/E 03/09/19', '1 W/E 03/16/19', '1 W/E 03/23/19',\n",
       "       '1 W/E 03/30/19', '1 W/E 04/06/19', '1 W/E 04/13/19',\n",
       "       '1 W/E 04/20/19', '1 W/E 04/27/19', '1 W/E 05/04/19',\n",
       "       '1 W/E 05/11/19', '1 W/E 05/18/19', '1 W/E 05/25/19',\n",
       "       '1 W/E 06/01/19', '1 W/E 06/08/19', '1 W/E 06/15/19',\n",
       "       '1 W/E 06/22/19', '1 W/E 06/29/19', '1 W/E 07/06/19',\n",
       "       '1 W/E 07/13/19', '1 W/E 07/20/19', '1 W/E 07/27/19',\n",
       "       '1 W/E 08/03/19', '1 W/E 08/10/19', '1 W/E 08/17/19',\n",
       "       '1 W/E 08/24/19', '1 W/E 08/31/19', '1 W/E 09/07/19',\n",
       "       '1 W/E 09/14/19', '1 W/E 09/21/19', '1 W/E 09/28/19',\n",
       "       '1 W/E 10/05/19', '1 W/E 10/12/19', '1 W/E 10/19/19',\n",
       "       '1 W/E 10/26/19', '1 W/E 11/02/19', '1 W/E 11/09/19',\n",
       "       '1 W/E 11/16/19', '1 W/E 11/23/19', '1 W/E 11/30/19',\n",
       "       '1 W/E 12/07/19', '1 W/E 12/14/19', '1 W/E 12/21/19',\n",
       "       '1 W/E 12/28/19', '1 W/E 01/04/20', '1 W/E 01/11/20',\n",
       "       '1 W/E 01/18/20', '1 W/E 01/25/20'], dtype=object)"
      ]
     },
     "execution_count": 24,
     "metadata": {},
     "output_type": "execute_result"
    }
   ],
   "source": [
    "data_wer.Weeks.unique()"
   ]
  },
  {
   "cell_type": "code",
   "execution_count": null,
   "metadata": {},
   "outputs": [],
   "source": []
  }
 ],
 "metadata": {
  "kernelspec": {
   "display_name": "Python 3",
   "language": "python",
   "name": "python3"
  },
  "language_info": {
   "codemirror_mode": {
    "name": "ipython",
    "version": 3
   },
   "file_extension": ".py",
   "mimetype": "text/x-python",
   "name": "python",
   "nbconvert_exporter": "python",
   "pygments_lexer": "ipython3",
   "version": "3.7.4"
  }
 },
 "nbformat": 4,
 "nbformat_minor": 2
}
